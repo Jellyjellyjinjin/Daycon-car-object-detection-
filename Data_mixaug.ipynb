{
  "nbformat": 4,
  "nbformat_minor": 0,
  "metadata": {
    "colab": {
      "provenance": [],
      "machine_shape": "hm",
      "gpuType": "A100",
      "authorship_tag": "ABX9TyNMWHvdLAGeuvyuN3tU7XUy",
      "include_colab_link": true
    },
    "kernelspec": {
      "name": "python3",
      "display_name": "Python 3"
    },
    "language_info": {
      "name": "python"
    },
    "accelerator": "GPU"
  },
  "cells": [
    {
      "cell_type": "markdown",
      "metadata": {
        "id": "view-in-github",
        "colab_type": "text"
      },
      "source": [
        "<a href=\"https://colab.research.google.com/github/Jellyjellyjinjin/Daycon-car-object-detection-/blob/main/Data_mixaug.ipynb\" target=\"_parent\"><img src=\"https://colab.research.google.com/assets/colab-badge.svg\" alt=\"Open In Colab\"/></a>"
      ]
    },
    {
      "cell_type": "code",
      "source": [
        "import cv2\n",
        "import os\n",
        "import random\n",
        "import albumentations as A\n",
        "from PIL import Image\n",
        "import numpy as np\n"
      ],
      "metadata": {
        "id": "8BEM_noYTSUZ"
      },
      "execution_count": null,
      "outputs": []
    },
    {
      "cell_type": "code",
      "source": [
        "# 폴더 내 파일의 경로를 리스트로 저장하는 함수\n",
        "def read_file_lines(input_file):\n",
        "    lines = []\n",
        "    with open(input_file, 'r') as file:\n",
        "        for line in file:\n",
        "            lines.append(line.strip())\n",
        "    return lines\n",
        "\n",
        "# train, valid 파일 경로 설정\n",
        "input_file_path = '/content/drive/MyDrive/input/train.txt'\n",
        "input_file_path2 = '/content/drive/MyDrive/input/valid.txt'\n",
        "\n",
        "# read_file_lines(train,valid)\n",
        "lines_list = read_file_lines(input_file_path)\n",
        "lines_list2 = read_file_lines(input_file_path2)\n"
      ],
      "metadata": {
        "id": "BCoW5_hfTdN7"
      },
      "execution_count": null,
      "outputs": []
    },
    {
      "cell_type": "code",
      "source": [
        "len(lines_list)"
      ],
      "metadata": {
        "colab": {
          "base_uri": "https://localhost:8080/"
        },
        "id": "twjmLz_LoW3k",
        "outputId": "29571c11-cddc-4023-91ee-8e5f1606d9ac"
      },
      "execution_count": null,
      "outputs": [
        {
          "output_type": "execute_result",
          "data": {
            "text/plain": [
              "6481"
            ]
          },
          "metadata": {},
          "execution_count": 11
        }
      ]
    },
    {
      "cell_type": "code",
      "source": [
        "output_folder = \"/content/drive/MyDrive/blurimage2/\""
      ],
      "metadata": {
        "id": "6Ri0fQ84m_Bj"
      },
      "execution_count": null,
      "outputs": []
    },
    {
      "cell_type": "code",
      "execution_count": null,
      "metadata": {
        "id": "7PffMsY_NReC"
      },
      "outputs": [],
      "source": [
        "train_tfms = A.Compose([\n",
        "        A.OneOf([\n",
        "            A.ISONoise(p=1.0, intensity=(0.39, 0.82)),\n",
        "            A.GaussNoise(p=1.0, var_limit=(15.0, 50.0))\n",
        "        ], p=1.0),\n",
        "\n",
        "        A.OneOf([\n",
        "            A.MotionBlur(p=1.0, blur_limit=(5, 15)),\n",
        "            A.GaussianBlur (p=1.0, blur_limit = (3,9)),\n",
        "            A.ImageCompression(p=1.0, quality_lower=25, quality_upper=40),\n",
        "        ], p=0.8),\n",
        "\n",
        "\n",
        "        A.RandomBrightnessContrast(p=0.5),\n",
        "        A.RandomGamma(p=0.6)\n",
        "      ])"
      ]
    },
    {
      "cell_type": "code",
      "source": [
        "def apply_transforms_and_save(input_file_path, output_folder):\n",
        "  image = cv2.imread(input_file_path)\n",
        "  transformed_image = train_tfms(image=image)[\"image\"]\n",
        "\n",
        "    # NumPy 배열로 변환\n",
        "  transformed_image = np.array(transformed_image)\n",
        "  output_file_path = os.path.join(output_folder, input_file_path[-13:])\n",
        "  cv2.imwrite(output_file_path, transformed_image)\n"
      ],
      "metadata": {
        "id": "8KiZGn5vTcVT"
      },
      "execution_count": null,
      "outputs": []
    },
    {
      "cell_type": "code",
      "source": [
        "file_paths = lines_list\n",
        "output_folder = \"/content/drive/MyDrive/blurimage2/\""
      ],
      "metadata": {
        "id": "ekGl7mxrWENj"
      },
      "execution_count": null,
      "outputs": []
    },
    {
      "cell_type": "code",
      "source": [
        "for file_path in file_paths:\n",
        "    apply_transforms_and_save(file_path, output_folder)"
      ],
      "metadata": {
        "id": "lB08wgzAU31f"
      },
      "execution_count": null,
      "outputs": []
    }
  ]
}